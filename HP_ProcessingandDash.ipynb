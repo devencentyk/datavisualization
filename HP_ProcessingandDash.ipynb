{
  "nbformat": 4,
  "nbformat_minor": 0,
  "metadata": {
    "colab": {
      "provenance": [],
      "authorship_tag": "ABX9TyNDZ/8btx8ff69IgDJZ9Zy+",
      "include_colab_link": true
    },
    "kernelspec": {
      "name": "python3",
      "display_name": "Python 3"
    },
    "language_info": {
      "name": "python"
    }
  },
  "cells": [
    {
      "cell_type": "markdown",
      "metadata": {
        "id": "view-in-github",
        "colab_type": "text"
      },
      "source": [
        "<a href=\"https://colab.research.google.com/github/devencentyk/datavisualization/blob/main/HP_ProcessingandDash.ipynb\" target=\"_parent\"><img src=\"https://colab.research.google.com/assets/colab-badge.svg\" alt=\"Open In Colab\"/></a>"
      ]
    },
    {
      "cell_type": "markdown",
      "source": [
        "# Imports, Data Manipulation/Processing, Graph Development"
      ],
      "metadata": {
        "id": "fuUG4j5RKuwU"
      }
    },
    {
      "cell_type": "markdown",
      "source": [
        "## Required Imports"
      ],
      "metadata": {
        "id": "uBSc-IwMErlF"
      }
    },
    {
      "cell_type": "code",
      "source": [
        "!pip install jupyter-dash\n",
        "!pip install dash-bootstrap-components\n",
        "!pip install plotly jupyterlab-d3\n",
        "!pip install -U dash\n",
        "!pip install session_info "
      ],
      "metadata": {
        "id": "6tM2ewZV_Kvx",
        "colab": {
          "base_uri": "https://localhost:8080/"
        },
        "outputId": "23f368a9-2523-4c28-9fed-de603f242e85"
      },
      "execution_count": 12,
      "outputs": [
        {
          "output_type": "stream",
          "name": "stdout",
          "text": [
            "Looking in indexes: https://pypi.org/simple, https://us-python.pkg.dev/colab-wheels/public/simple/\n",
            "Requirement already satisfied: jupyter-dash in /usr/local/lib/python3.10/dist-packages (0.4.2)\n",
            "Requirement already satisfied: requests in /usr/local/lib/python3.10/dist-packages (from jupyter-dash) (2.27.1)\n",
            "Requirement already satisfied: retrying in /usr/local/lib/python3.10/dist-packages (from jupyter-dash) (1.3.4)\n",
            "Requirement already satisfied: nest-asyncio in /usr/local/lib/python3.10/dist-packages (from jupyter-dash) (1.5.6)\n",
            "Requirement already satisfied: dash in /usr/local/lib/python3.10/dist-packages (from jupyter-dash) (2.9.3)\n",
            "Requirement already satisfied: ipython in /usr/local/lib/python3.10/dist-packages (from jupyter-dash) (7.34.0)\n",
            "Requirement already satisfied: flask in /usr/local/lib/python3.10/dist-packages (from jupyter-dash) (2.2.4)\n",
            "Requirement already satisfied: ipykernel in /usr/local/lib/python3.10/dist-packages (from jupyter-dash) (5.5.6)\n",
            "Requirement already satisfied: ansi2html in /usr/local/lib/python3.10/dist-packages (from jupyter-dash) (1.8.0)\n",
            "Requirement already satisfied: dash-html-components==2.0.0 in /usr/local/lib/python3.10/dist-packages (from dash->jupyter-dash) (2.0.0)\n",
            "Requirement already satisfied: dash-core-components==2.0.0 in /usr/local/lib/python3.10/dist-packages (from dash->jupyter-dash) (2.0.0)\n",
            "Requirement already satisfied: dash-table==5.0.0 in /usr/local/lib/python3.10/dist-packages (from dash->jupyter-dash) (5.0.0)\n",
            "Requirement already satisfied: plotly>=5.0.0 in /usr/local/lib/python3.10/dist-packages (from dash->jupyter-dash) (5.13.1)\n",
            "Requirement already satisfied: click>=8.0 in /usr/local/lib/python3.10/dist-packages (from flask->jupyter-dash) (8.1.3)\n",
            "Requirement already satisfied: itsdangerous>=2.0 in /usr/local/lib/python3.10/dist-packages (from flask->jupyter-dash) (2.1.2)\n",
            "Requirement already satisfied: Werkzeug>=2.2.2 in /usr/local/lib/python3.10/dist-packages (from flask->jupyter-dash) (2.3.0)\n",
            "Requirement already satisfied: Jinja2>=3.0 in /usr/local/lib/python3.10/dist-packages (from flask->jupyter-dash) (3.1.2)\n",
            "Requirement already satisfied: tornado>=4.2 in /usr/local/lib/python3.10/dist-packages (from ipykernel->jupyter-dash) (6.2)\n",
            "Requirement already satisfied: jupyter-client in /usr/local/lib/python3.10/dist-packages (from ipykernel->jupyter-dash) (6.1.12)\n",
            "Requirement already satisfied: ipython-genutils in /usr/local/lib/python3.10/dist-packages (from ipykernel->jupyter-dash) (0.2.0)\n",
            "Requirement already satisfied: traitlets>=4.1.0 in /usr/local/lib/python3.10/dist-packages (from ipykernel->jupyter-dash) (5.7.1)\n",
            "Requirement already satisfied: matplotlib-inline in /usr/local/lib/python3.10/dist-packages (from ipython->jupyter-dash) (0.1.6)\n",
            "Requirement already satisfied: jedi>=0.16 in /usr/local/lib/python3.10/dist-packages (from ipython->jupyter-dash) (0.18.2)\n",
            "Requirement already satisfied: pexpect>4.3 in /usr/local/lib/python3.10/dist-packages (from ipython->jupyter-dash) (4.8.0)\n",
            "Requirement already satisfied: backcall in /usr/local/lib/python3.10/dist-packages (from ipython->jupyter-dash) (0.2.0)\n",
            "Requirement already satisfied: prompt-toolkit!=3.0.0,!=3.0.1,<3.1.0,>=2.0.0 in /usr/local/lib/python3.10/dist-packages (from ipython->jupyter-dash) (3.0.38)\n",
            "Requirement already satisfied: pygments in /usr/local/lib/python3.10/dist-packages (from ipython->jupyter-dash) (2.14.0)\n",
            "Requirement already satisfied: setuptools>=18.5 in /usr/local/lib/python3.10/dist-packages (from ipython->jupyter-dash) (67.7.2)\n",
            "Requirement already satisfied: pickleshare in /usr/local/lib/python3.10/dist-packages (from ipython->jupyter-dash) (0.7.5)\n",
            "Requirement already satisfied: decorator in /usr/local/lib/python3.10/dist-packages (from ipython->jupyter-dash) (4.4.2)\n",
            "Requirement already satisfied: charset-normalizer~=2.0.0 in /usr/local/lib/python3.10/dist-packages (from requests->jupyter-dash) (2.0.12)\n",
            "Requirement already satisfied: certifi>=2017.4.17 in /usr/local/lib/python3.10/dist-packages (from requests->jupyter-dash) (2022.12.7)\n",
            "Requirement already satisfied: urllib3<1.27,>=1.21.1 in /usr/local/lib/python3.10/dist-packages (from requests->jupyter-dash) (1.26.15)\n",
            "Requirement already satisfied: idna<4,>=2.5 in /usr/local/lib/python3.10/dist-packages (from requests->jupyter-dash) (3.4)\n",
            "Requirement already satisfied: six>=1.7.0 in /usr/local/lib/python3.10/dist-packages (from retrying->jupyter-dash) (1.16.0)\n",
            "Requirement already satisfied: parso<0.9.0,>=0.8.0 in /usr/local/lib/python3.10/dist-packages (from jedi>=0.16->ipython->jupyter-dash) (0.8.3)\n",
            "Requirement already satisfied: MarkupSafe>=2.0 in /usr/local/lib/python3.10/dist-packages (from Jinja2>=3.0->flask->jupyter-dash) (2.1.2)\n",
            "Requirement already satisfied: ptyprocess>=0.5 in /usr/local/lib/python3.10/dist-packages (from pexpect>4.3->ipython->jupyter-dash) (0.7.0)\n",
            "Requirement already satisfied: tenacity>=6.2.0 in /usr/local/lib/python3.10/dist-packages (from plotly>=5.0.0->dash->jupyter-dash) (8.2.2)\n",
            "Requirement already satisfied: wcwidth in /usr/local/lib/python3.10/dist-packages (from prompt-toolkit!=3.0.0,!=3.0.1,<3.1.0,>=2.0.0->ipython->jupyter-dash) (0.2.6)\n",
            "Requirement already satisfied: pyzmq>=13 in /usr/local/lib/python3.10/dist-packages (from jupyter-client->ipykernel->jupyter-dash) (23.2.1)\n",
            "Requirement already satisfied: python-dateutil>=2.1 in /usr/local/lib/python3.10/dist-packages (from jupyter-client->ipykernel->jupyter-dash) (2.8.2)\n",
            "Requirement already satisfied: jupyter-core>=4.6.0 in /usr/local/lib/python3.10/dist-packages (from jupyter-client->ipykernel->jupyter-dash) (5.3.0)\n",
            "Requirement already satisfied: platformdirs>=2.5 in /usr/local/lib/python3.10/dist-packages (from jupyter-core>=4.6.0->jupyter-client->ipykernel->jupyter-dash) (3.3.0)\n",
            "Looking in indexes: https://pypi.org/simple, https://us-python.pkg.dev/colab-wheels/public/simple/\n",
            "Requirement already satisfied: dash-bootstrap-components in /usr/local/lib/python3.10/dist-packages (1.4.1)\n",
            "Requirement already satisfied: dash>=2.0.0 in /usr/local/lib/python3.10/dist-packages (from dash-bootstrap-components) (2.9.3)\n",
            "Requirement already satisfied: Flask>=1.0.4 in /usr/local/lib/python3.10/dist-packages (from dash>=2.0.0->dash-bootstrap-components) (2.2.4)\n",
            "Requirement already satisfied: dash-html-components==2.0.0 in /usr/local/lib/python3.10/dist-packages (from dash>=2.0.0->dash-bootstrap-components) (2.0.0)\n",
            "Requirement already satisfied: dash-core-components==2.0.0 in /usr/local/lib/python3.10/dist-packages (from dash>=2.0.0->dash-bootstrap-components) (2.0.0)\n",
            "Requirement already satisfied: dash-table==5.0.0 in /usr/local/lib/python3.10/dist-packages (from dash>=2.0.0->dash-bootstrap-components) (5.0.0)\n",
            "Requirement already satisfied: plotly>=5.0.0 in /usr/local/lib/python3.10/dist-packages (from dash>=2.0.0->dash-bootstrap-components) (5.13.1)\n",
            "Requirement already satisfied: Jinja2>=3.0 in /usr/local/lib/python3.10/dist-packages (from Flask>=1.0.4->dash>=2.0.0->dash-bootstrap-components) (3.1.2)\n",
            "Requirement already satisfied: Werkzeug>=2.2.2 in /usr/local/lib/python3.10/dist-packages (from Flask>=1.0.4->dash>=2.0.0->dash-bootstrap-components) (2.3.0)\n",
            "Requirement already satisfied: itsdangerous>=2.0 in /usr/local/lib/python3.10/dist-packages (from Flask>=1.0.4->dash>=2.0.0->dash-bootstrap-components) (2.1.2)\n",
            "Requirement already satisfied: click>=8.0 in /usr/local/lib/python3.10/dist-packages (from Flask>=1.0.4->dash>=2.0.0->dash-bootstrap-components) (8.1.3)\n",
            "Requirement already satisfied: tenacity>=6.2.0 in /usr/local/lib/python3.10/dist-packages (from plotly>=5.0.0->dash>=2.0.0->dash-bootstrap-components) (8.2.2)\n",
            "Requirement already satisfied: MarkupSafe>=2.0 in /usr/local/lib/python3.10/dist-packages (from Jinja2>=3.0->Flask>=1.0.4->dash>=2.0.0->dash-bootstrap-components) (2.1.2)\n",
            "Looking in indexes: https://pypi.org/simple, https://us-python.pkg.dev/colab-wheels/public/simple/\n",
            "Requirement already satisfied: plotly in /usr/local/lib/python3.10/dist-packages (5.13.1)\n",
            "\u001b[31mERROR: Could not find a version that satisfies the requirement jupyterlab-d3 (from versions: none)\u001b[0m\u001b[31m\n",
            "\u001b[0m\u001b[31mERROR: No matching distribution found for jupyterlab-d3\u001b[0m\u001b[31m\n",
            "\u001b[0mLooking in indexes: https://pypi.org/simple, https://us-python.pkg.dev/colab-wheels/public/simple/\n",
            "Requirement already satisfied: dash in /usr/local/lib/python3.10/dist-packages (2.9.3)\n",
            "Requirement already satisfied: dash-table==5.0.0 in /usr/local/lib/python3.10/dist-packages (from dash) (5.0.0)\n",
            "Requirement already satisfied: dash-core-components==2.0.0 in /usr/local/lib/python3.10/dist-packages (from dash) (2.0.0)\n",
            "Requirement already satisfied: plotly>=5.0.0 in /usr/local/lib/python3.10/dist-packages (from dash) (5.13.1)\n",
            "Requirement already satisfied: dash-html-components==2.0.0 in /usr/local/lib/python3.10/dist-packages (from dash) (2.0.0)\n",
            "Requirement already satisfied: Flask>=1.0.4 in /usr/local/lib/python3.10/dist-packages (from dash) (2.2.4)\n",
            "Requirement already satisfied: Jinja2>=3.0 in /usr/local/lib/python3.10/dist-packages (from Flask>=1.0.4->dash) (3.1.2)\n",
            "Requirement already satisfied: Werkzeug>=2.2.2 in /usr/local/lib/python3.10/dist-packages (from Flask>=1.0.4->dash) (2.3.0)\n",
            "Requirement already satisfied: click>=8.0 in /usr/local/lib/python3.10/dist-packages (from Flask>=1.0.4->dash) (8.1.3)\n",
            "Requirement already satisfied: itsdangerous>=2.0 in /usr/local/lib/python3.10/dist-packages (from Flask>=1.0.4->dash) (2.1.2)\n",
            "Requirement already satisfied: tenacity>=6.2.0 in /usr/local/lib/python3.10/dist-packages (from plotly>=5.0.0->dash) (8.2.2)\n",
            "Requirement already satisfied: MarkupSafe>=2.0 in /usr/local/lib/python3.10/dist-packages (from Jinja2>=3.0->Flask>=1.0.4->dash) (2.1.2)\n",
            "Looking in indexes: https://pypi.org/simple, https://us-python.pkg.dev/colab-wheels/public/simple/\n",
            "Requirement already satisfied: session_info in /usr/local/lib/python3.10/dist-packages (1.0.0)\n",
            "Requirement already satisfied: stdlib-list in /usr/local/lib/python3.10/dist-packages (from session_info) (0.8.0)\n"
          ]
        }
      ]
    },
    {
      "cell_type": "code",
      "source": [
        "import pandas as pd\n",
        "import jupyter_dash\n",
        "from pandas.core.arrays.sparse import dtype\n",
        "import plotly.graph_objects as go\n",
        "import plotly.express as px\n",
        "from jupyter_dash import JupyterDash\n",
        "from dash import dcc\n",
        "from dash import html\n",
        "from dash import dash_table\n",
        "import numpy as np\n",
        "from IPython.display import Javascript\n",
        "from IPython.display import display, HTML\n",
        "import session_info \n",
        "import matplotlib.pyplot as plt\n",
        "import regex as re"
      ],
      "metadata": {
        "id": "Eyc-4dMRfxkO"
      },
      "execution_count": 13,
      "outputs": []
    },
    {
      "cell_type": "markdown",
      "source": [
        "## Importing Data"
      ],
      "metadata": {
        "id": "YgOdfn62Eznj"
      }
    },
    {
      "cell_type": "code",
      "source": [
        "#from google.colab import drive\n",
        "#drive.mount('/content/drive')\n",
        "\n",
        "# Read in the CSV files and store them in a list of DataFrames\n",
        "data = []\n",
        "for i in range(1, 9):\n",
        "    filename = f\"hp{i}.csv\"\n",
        "    df = pd.read_csv('https://raw.githubusercontent.com/devencentyk/datavisualization/main/{}'.format(filename))\n",
        "    df['book'] = f\"Book {i}\"\n",
        "    data.append(df)\n",
        "\n",
        "# Concatenate the DataFrames along the rows\n",
        "df = pd.concat(data, ignore_index=True)\n",
        "\n",
        "# Convert 'dialog' column to string type\n",
        "df['dialog'] = df['dialog'].astype(str)\n",
        "df2 = df.copy()\n",
        "\n",
        "# Group the dialogues by book\n",
        "df_dialog = df.groupby('movie')['dialog'].apply(' '.join).reset_index()"
      ],
      "metadata": {
        "id": "JUiZ4E4P_QF6"
      },
      "execution_count": 14,
      "outputs": []
    },
    {
      "cell_type": "code",
      "source": [
        "spell_df = pd.read_csv('https://raw.githubusercontent.com/devencentyk/datavisualization/main/Spells.csv')"
      ],
      "metadata": {
        "id": "ZYdVzS18_nQ8"
      },
      "execution_count": 15,
      "outputs": []
    },
    {
      "cell_type": "markdown",
      "source": [
        "## Processing"
      ],
      "metadata": {
        "id": "J6nG3YhLE4y0"
      }
    },
    {
      "cell_type": "code",
      "source": [
        "#Renaming movie column\n",
        "\n",
        "df_dialog.loc[0, 'movie'] = 'Chamber of Secrets'\n",
        "df_dialog.loc[1, 'movie'] = 'Deathly Hallows Part 1'\n",
        "df_dialog.loc[2, 'movie'] = 'Deathly Hallows Part 2'\n",
        "df_dialog.loc[3, 'movie'] = 'Goblet of Fire'\n",
        "df_dialog.loc[4, 'movie'] = 'Half-Blood Prince'\n",
        "df_dialog.loc[5, 'movie'] = 'Order of the Phoenix'\n",
        "df_dialog.loc[6, 'movie'] = 'Philosopher\\'s Stone'\n",
        "df_dialog.loc[7, 'movie'] = 'Prisoner of Azkaban'"
      ],
      "metadata": {
        "id": "BVFqLSLuAAlk"
      },
      "execution_count": 16,
      "outputs": []
    },
    {
      "cell_type": "code",
      "source": [
        "##### USING REGEX to count spells\n",
        "\n",
        "movies = [\n",
        "    'Philosopher\\'s Stone',\n",
        "    'Chamber of Secrets',\n",
        "    'Prisoner of Azkaban',\n",
        "    'Goblet of Fire',\n",
        "    'Order of the Phoenix',\n",
        "    'Half-Blood Prince',\n",
        "    'Deathly Hallows Part 1',\n",
        "    'Deathly Hallows Part 2'\n",
        "]\n",
        "\n",
        "# Create dictionary to store spell counts for each movie\n",
        "spell_counts = {movie: {} for movie in movies}\n",
        "\n",
        "# Loop through each movie and count spell occurrences\n",
        "for movie in movies:\n",
        "  subset_df = df_dialog.loc[df_dialog['movie']==movie].reset_index()\n",
        "    \n",
        "  # Initialize spell counts for this movies\n",
        "  spell_counts[movie] = {spell: 0 for spell in spell_df['Incantation']}\n",
        "    \n",
        "  # Loop through each spell and count occurrences in this movie\n",
        "  for spell in spell_df['Incantation']:\n",
        "    spell_counts[movie][spell] = len(re.findall(r'\\b(?i)'+ spell + r'\\b', subset_df.loc[0,'dialog'], re.IGNORECASE))\n",
        "\n",
        "# Convert counts to a DataFrame\n",
        "counts_df = pd.DataFrame.from_dict(spell_counts)\n",
        "\n",
        "counts_df = counts_df.loc[counts_df.sum(axis=1).sort_values(ascending=False).index]"
      ],
      "metadata": {
        "id": "PyUmOF-6_s0q"
      },
      "execution_count": 17,
      "outputs": []
    },
    {
      "cell_type": "code",
      "source": [
        "##### Counting how many times each character cast a spell \n",
        "\n",
        "# Group the dialogue by character\n",
        "df_chars = df2.groupby('character')['dialog'].apply(' '.join).reset_index()\n",
        "\n",
        "chars = df_chars['character'].unique()\n",
        "\n",
        "# Create dictionary to store spell counts for each movie\n",
        "spell_counts = {char: {} for char in chars}\n",
        "\n",
        "# Loop through each movie and count spell occurrences\n",
        "for char in chars:\n",
        "  subset_df = df_chars.loc[df_chars['character']==char].reset_index()\n",
        "    \n",
        "  # Initialize spell counts for this movies\n",
        "  spell_counts[char] = {spell: 0 for spell in spell_df['Incantation']}\n",
        "    \n",
        "  # Loop through each spell and count occurrences in this movie\n",
        "  for spell in spell_df['Incantation']:\n",
        "\n",
        "    spell_counts[char][spell] = len(re.findall(r'\\b(?i)'+ spell + r'\\b', subset_df.loc[0,'dialog'], re.IGNORECASE))\n",
        "\n",
        "spell_counts\n",
        "\n",
        "# Convert counts to a DataFrame\n",
        "char_counts_df = pd.DataFrame.from_dict(spell_counts)\n",
        "\n",
        "char_counts_df = char_counts_df.sum(axis=0)\n",
        "char_counts_df = pd.DataFrame(char_counts_df)\n",
        "char_counts_df = char_counts_df.reset_index()\n",
        "char_counts_df.rename(columns={\"index\": \"Character\", 0 : \"Spells Cast\"}, inplace=True)\n",
        "\n",
        "\n",
        "#Counting num of chars who actually cast spells\n",
        "spellcasters = []\n",
        "\n",
        "\n",
        "for char in chars:\n",
        "  if (char_counts_df.loc[char_counts_df['Character']==char]['Spells Cast'] != 0).bool():\n",
        "    spellcasters.append(char)\n",
        "\n",
        "char_counts_df = char_counts_df.drop(char_counts_df[char_counts_df['Character'] == 'Professors'].index)\n",
        "char_counts_df = char_counts_df.drop(char_counts_df[char_counts_df['Character'] == 'All'].index)\n",
        "char_counts_df = char_counts_df.sort_values(by='Spells Cast', ascending=False)\n",
        "\n",
        "top_spellcasters = char_counts_df.head(10)"
      ],
      "metadata": {
        "id": "SbuEXA_KD6wc"
      },
      "execution_count": 18,
      "outputs": []
    },
    {
      "cell_type": "markdown",
      "source": [
        "## Making graphs"
      ],
      "metadata": {
        "id": "ZkzSUp5NF30J"
      }
    },
    {
      "cell_type": "code",
      "source": [
        "##### Making G1\n",
        "\n",
        "df = counts_df\n",
        "\n",
        "m_colors = {'Philosopher\\'s Stone': '#946B2D',\n",
        "          'Chamber of Secrets': '#740001',\n",
        "          'Prisoner of Azkaban': '#d3a625',\n",
        "          'Goblet of Fire': '#222f5b',\n",
        "          'Order of the Phoenix': '#ae0001',\n",
        "          'Half-Blood Prince': '#aaaaaa',\n",
        "          'Deathly Hallows Part 1': '#2E2E2E',\n",
        "          'Deathly Hallows Part 2': '#2a623d'}\n",
        "\n",
        "\n",
        "\n",
        "# create stacked bar chart\n",
        "fig = go.Figure(data=[go.Bar(x=counts_df.index[0:-4], y=counts_df[movie],\n",
        "                             name=movie,\n",
        "                             hovertemplate=\n",
        "                              \"<b>%{x}</b><br>\" + \n",
        "                              \"Cast %{y} time(s) in The \" + movie + '<extra></extra>',\n",
        "                             marker_color=m_colors[movie]) for movie in counts_df.columns])\n",
        "\n",
        "\n",
        "\n",
        "# customize layout\n",
        "fig.update_layout(title='Most Commonly Cast Spells Throughout Movie Series',\n",
        "                  xaxis_title='Spell',\n",
        "                  yaxis_title='Times Cast',\n",
        "                  barmode='stack',\n",
        "                  showlegend = True,\n",
        "                  legend=dict(font = dict(size=18)),\n",
        "                  font=dict(\n",
        "                        family='Cochin',\n",
        "                        size=18,\n",
        "                        color = 'black'\n",
        "\n",
        "                  )\n",
        "                  )\n",
        "\n",
        "\n",
        "fig.update_layout(\n",
        "    hoverlabel=dict(\n",
        "        font_size=19,\n",
        "        font_family=\"Cochin\"),\n",
        "    plot_bgcolor='#e9e7e2',\n",
        "    paper_bgcolor='#d4d1c9'\n",
        "    )\n",
        "\n",
        "fig.update_xaxes(tickangle=45)\n",
        "\n",
        "fig.update_yaxes(ticks = \"outside\", tickcolor='#d4d1c9', ticklen=10)\n",
        "\n",
        "fig.update_traces(marker=dict(line=dict(width=2,\n",
        "                                        color='black')))\n",
        "\n",
        "\n",
        "fig.update_layout(\n",
        "    xaxis=dict(\n",
        "        showline=True,\n",
        "        linewidth=1.5,\n",
        "        linecolor='black'\n",
        "    )\n",
        ")\n",
        "\n",
        "\n",
        "#### Making G2\n",
        "\n",
        "\n",
        "fig2 = px.bar(top_spellcasters, x='Spells Cast', y='Character',  orientation='h',\n",
        "              text_auto=True,\n",
        "             color='Character', color_discrete_sequence=['#740001', '#d3a625', '#222f5b', '#946B2D','#ae0001','#aaaaaa','#2E2E2E','#2a623d','#000000','#ffd800'],\n",
        "             hover_data={'Character': False, 'Spells Cast': ':.0f', 'Spells Cast': True})\n",
        "\n",
        "# customize the layout\n",
        "fig2.update_layout(title='Top 10 Spell Casters', \n",
        "                  yaxis_title='Character', \n",
        "                  xaxis_title='Number of Spells Cast',\n",
        "                  font=dict(\n",
        "                        family='Cochin',\n",
        "                        size=18,\n",
        "                        color = 'black'\n",
        "\n",
        "                    ),\n",
        "                  showlegend = False,\n",
        "                  bargap=0.15,\n",
        "                  bargroupgap=0.1,\n",
        "                  plot_bgcolor='#e9e7e2',\n",
        "                  paper_bgcolor='#d4d1c9'\n",
        "                  )\n",
        "\n",
        "\n",
        "fig2.update_layout(hovermode=False)\n",
        "\n",
        "fig2.update_traces(marker=dict(\n",
        "    line=dict(width=1.5,\n",
        "              color='black')))\n",
        "\n",
        "fig2.update_yaxes(ticks = \"outside\", tickcolor='#d4d1c9', ticklen=10)\n",
        "\n",
        "fig2.update_layout(\n",
        "    yaxis=dict(\n",
        "        showline=True,\n",
        "        linewidth=1.5,\n",
        "        linecolor='black'\n",
        "    )\n",
        ")"
      ],
      "metadata": {
        "id": "MjcJCUvOAHd8",
        "colab": {
          "base_uri": "https://localhost:8080/",
          "height": 542
        },
        "outputId": "a7aa7991-1632-4bf0-9cd9-f9fbcb853e0c"
      },
      "execution_count": 19,
      "outputs": [
        {
          "output_type": "display_data",
          "data": {
            "text/html": [
              "<html>\n",
              "<head><meta charset=\"utf-8\" /></head>\n",
              "<body>\n",
              "    <div>            <script src=\"https://cdnjs.cloudflare.com/ajax/libs/mathjax/2.7.5/MathJax.js?config=TeX-AMS-MML_SVG\"></script><script type=\"text/javascript\">if (window.MathJax && window.MathJax.Hub && window.MathJax.Hub.Config) {window.MathJax.Hub.Config({SVG: {font: \"STIX-Web\"}});}</script>                <script type=\"text/javascript\">window.PlotlyConfig = {MathJaxConfig: 'local'};</script>\n",
              "        <script src=\"https://cdn.plot.ly/plotly-2.18.2.min.js\"></script>                <div id=\"c441545f-6862-4441-976d-05ef770896a9\" class=\"plotly-graph-div\" style=\"height:525px; width:100%;\"></div>            <script type=\"text/javascript\">                                    window.PLOTLYENV=window.PLOTLYENV || {};                                    if (document.getElementById(\"c441545f-6862-4441-976d-05ef770896a9\")) {                    Plotly.newPlot(                        \"c441545f-6862-4441-976d-05ef770896a9\",                        [{\"alignmentgroup\":\"True\",\"hovertemplate\":\"Spells Cast=%{x}<extra></extra>\",\"legendgroup\":\"Harry Potter\",\"marker\":{\"color\":\"#740001\",\"pattern\":{\"shape\":\"\"},\"line\":{\"color\":\"black\",\"width\":1.5}},\"name\":\"Harry Potter\",\"offsetgroup\":\"Harry Potter\",\"orientation\":\"h\",\"showlegend\":true,\"textposition\":\"auto\",\"texttemplate\":\"%{x}\",\"x\":[59],\"xaxis\":\"x\",\"y\":[\"Harry Potter\"],\"yaxis\":\"y\",\"type\":\"bar\"},{\"alignmentgroup\":\"True\",\"hovertemplate\":\"Spells Cast=%{x}<extra></extra>\",\"legendgroup\":\"Hermione Granger\",\"marker\":{\"color\":\"#d3a625\",\"pattern\":{\"shape\":\"\"},\"line\":{\"color\":\"black\",\"width\":1.5}},\"name\":\"Hermione Granger\",\"offsetgroup\":\"Hermione Granger\",\"orientation\":\"h\",\"showlegend\":true,\"textposition\":\"auto\",\"texttemplate\":\"%{x}\",\"x\":[32],\"xaxis\":\"x\",\"y\":[\"Hermione Granger\"],\"yaxis\":\"y\",\"type\":\"bar\"},{\"alignmentgroup\":\"True\",\"hovertemplate\":\"Spells Cast=%{x}<extra></extra>\",\"legendgroup\":\"Ron Weasley\",\"marker\":{\"color\":\"#222f5b\",\"pattern\":{\"shape\":\"\"},\"line\":{\"color\":\"black\",\"width\":1.5}},\"name\":\"Ron Weasley\",\"offsetgroup\":\"Ron Weasley\",\"orientation\":\"h\",\"showlegend\":true,\"textposition\":\"auto\",\"texttemplate\":\"%{x}\",\"x\":[8],\"xaxis\":\"x\",\"y\":[\"Ron Weasley\"],\"yaxis\":\"y\",\"type\":\"bar\"},{\"alignmentgroup\":\"True\",\"hovertemplate\":\"Spells Cast=%{x}<extra></extra>\",\"legendgroup\":\"Remus Lupin\",\"marker\":{\"color\":\"#946B2D\",\"pattern\":{\"shape\":\"\"},\"line\":{\"color\":\"black\",\"width\":1.5}},\"name\":\"Remus Lupin\",\"offsetgroup\":\"Remus Lupin\",\"orientation\":\"h\",\"showlegend\":true,\"textposition\":\"auto\",\"texttemplate\":\"%{x}\",\"x\":[7],\"xaxis\":\"x\",\"y\":[\"Remus Lupin\"],\"yaxis\":\"y\",\"type\":\"bar\"},{\"alignmentgroup\":\"True\",\"hovertemplate\":\"Spells Cast=%{x}<extra></extra>\",\"legendgroup\":\"Neville Longbottom\",\"marker\":{\"color\":\"#ae0001\",\"pattern\":{\"shape\":\"\"},\"line\":{\"color\":\"black\",\"width\":1.5}},\"name\":\"Neville Longbottom\",\"offsetgroup\":\"Neville Longbottom\",\"orientation\":\"h\",\"showlegend\":true,\"textposition\":\"auto\",\"texttemplate\":\"%{x}\",\"x\":[5],\"xaxis\":\"x\",\"y\":[\"Neville Longbottom\"],\"yaxis\":\"y\",\"type\":\"bar\"},{\"alignmentgroup\":\"True\",\"hovertemplate\":\"Spells Cast=%{x}<extra></extra>\",\"legendgroup\":\"Albus Dumbledore\",\"marker\":{\"color\":\"#aaaaaa\",\"pattern\":{\"shape\":\"\"},\"line\":{\"color\":\"black\",\"width\":1.5}},\"name\":\"Albus Dumbledore\",\"offsetgroup\":\"Albus Dumbledore\",\"orientation\":\"h\",\"showlegend\":true,\"textposition\":\"auto\",\"texttemplate\":\"%{x}\",\"x\":[5],\"xaxis\":\"x\",\"y\":[\"Albus Dumbledore\"],\"yaxis\":\"y\",\"type\":\"bar\"},{\"alignmentgroup\":\"True\",\"hovertemplate\":\"Spells Cast=%{x}<extra></extra>\",\"legendgroup\":\"Gilderoy Lockhart\",\"marker\":{\"color\":\"#2E2E2E\",\"pattern\":{\"shape\":\"\"},\"line\":{\"color\":\"black\",\"width\":1.5}},\"name\":\"Gilderoy Lockhart\",\"offsetgroup\":\"Gilderoy Lockhart\",\"orientation\":\"h\",\"showlegend\":true,\"textposition\":\"auto\",\"texttemplate\":\"%{x}\",\"x\":[4],\"xaxis\":\"x\",\"y\":[\"Gilderoy Lockhart\"],\"yaxis\":\"y\",\"type\":\"bar\"},{\"alignmentgroup\":\"True\",\"hovertemplate\":\"Spells Cast=%{x}<extra></extra>\",\"legendgroup\":\"Severus Snape\",\"marker\":{\"color\":\"#2a623d\",\"pattern\":{\"shape\":\"\"},\"line\":{\"color\":\"black\",\"width\":1.5}},\"name\":\"Severus Snape\",\"offsetgroup\":\"Severus Snape\",\"orientation\":\"h\",\"showlegend\":true,\"textposition\":\"auto\",\"texttemplate\":\"%{x}\",\"x\":[4],\"xaxis\":\"x\",\"y\":[\"Severus Snape\"],\"yaxis\":\"y\",\"type\":\"bar\"},{\"alignmentgroup\":\"True\",\"hovertemplate\":\"Spells Cast=%{x}<extra></extra>\",\"legendgroup\":\"Sirius Black\",\"marker\":{\"color\":\"#000000\",\"pattern\":{\"shape\":\"\"},\"line\":{\"color\":\"black\",\"width\":1.5}},\"name\":\"Sirius Black\",\"offsetgroup\":\"Sirius Black\",\"orientation\":\"h\",\"showlegend\":true,\"textposition\":\"auto\",\"texttemplate\":\"%{x}\",\"x\":[3],\"xaxis\":\"x\",\"y\":[\"Sirius Black\"],\"yaxis\":\"y\",\"type\":\"bar\"},{\"alignmentgroup\":\"True\",\"hovertemplate\":\"Spells Cast=%{x}<extra></extra>\",\"legendgroup\":\"Minerva McGonagall\",\"marker\":{\"color\":\"#ffd800\",\"pattern\":{\"shape\":\"\"},\"line\":{\"color\":\"black\",\"width\":1.5}},\"name\":\"Minerva McGonagall\",\"offsetgroup\":\"Minerva McGonagall\",\"orientation\":\"h\",\"showlegend\":true,\"textposition\":\"auto\",\"texttemplate\":\"%{x}\",\"x\":[2],\"xaxis\":\"x\",\"y\":[\"Minerva McGonagall\"],\"yaxis\":\"y\",\"type\":\"bar\"}],                        {\"template\":{\"data\":{\"histogram2dcontour\":[{\"type\":\"histogram2dcontour\",\"colorbar\":{\"outlinewidth\":0,\"ticks\":\"\"},\"colorscale\":[[0.0,\"#0d0887\"],[0.1111111111111111,\"#46039f\"],[0.2222222222222222,\"#7201a8\"],[0.3333333333333333,\"#9c179e\"],[0.4444444444444444,\"#bd3786\"],[0.5555555555555556,\"#d8576b\"],[0.6666666666666666,\"#ed7953\"],[0.7777777777777778,\"#fb9f3a\"],[0.8888888888888888,\"#fdca26\"],[1.0,\"#f0f921\"]]}],\"choropleth\":[{\"type\":\"choropleth\",\"colorbar\":{\"outlinewidth\":0,\"ticks\":\"\"}}],\"histogram2d\":[{\"type\":\"histogram2d\",\"colorbar\":{\"outlinewidth\":0,\"ticks\":\"\"},\"colorscale\":[[0.0,\"#0d0887\"],[0.1111111111111111,\"#46039f\"],[0.2222222222222222,\"#7201a8\"],[0.3333333333333333,\"#9c179e\"],[0.4444444444444444,\"#bd3786\"],[0.5555555555555556,\"#d8576b\"],[0.6666666666666666,\"#ed7953\"],[0.7777777777777778,\"#fb9f3a\"],[0.8888888888888888,\"#fdca26\"],[1.0,\"#f0f921\"]]}],\"heatmap\":[{\"type\":\"heatmap\",\"colorbar\":{\"outlinewidth\":0,\"ticks\":\"\"},\"colorscale\":[[0.0,\"#0d0887\"],[0.1111111111111111,\"#46039f\"],[0.2222222222222222,\"#7201a8\"],[0.3333333333333333,\"#9c179e\"],[0.4444444444444444,\"#bd3786\"],[0.5555555555555556,\"#d8576b\"],[0.6666666666666666,\"#ed7953\"],[0.7777777777777778,\"#fb9f3a\"],[0.8888888888888888,\"#fdca26\"],[1.0,\"#f0f921\"]]}],\"heatmapgl\":[{\"type\":\"heatmapgl\",\"colorbar\":{\"outlinewidth\":0,\"ticks\":\"\"},\"colorscale\":[[0.0,\"#0d0887\"],[0.1111111111111111,\"#46039f\"],[0.2222222222222222,\"#7201a8\"],[0.3333333333333333,\"#9c179e\"],[0.4444444444444444,\"#bd3786\"],[0.5555555555555556,\"#d8576b\"],[0.6666666666666666,\"#ed7953\"],[0.7777777777777778,\"#fb9f3a\"],[0.8888888888888888,\"#fdca26\"],[1.0,\"#f0f921\"]]}],\"contourcarpet\":[{\"type\":\"contourcarpet\",\"colorbar\":{\"outlinewidth\":0,\"ticks\":\"\"}}],\"contour\":[{\"type\":\"contour\",\"colorbar\":{\"outlinewidth\":0,\"ticks\":\"\"},\"colorscale\":[[0.0,\"#0d0887\"],[0.1111111111111111,\"#46039f\"],[0.2222222222222222,\"#7201a8\"],[0.3333333333333333,\"#9c179e\"],[0.4444444444444444,\"#bd3786\"],[0.5555555555555556,\"#d8576b\"],[0.6666666666666666,\"#ed7953\"],[0.7777777777777778,\"#fb9f3a\"],[0.8888888888888888,\"#fdca26\"],[1.0,\"#f0f921\"]]}],\"surface\":[{\"type\":\"surface\",\"colorbar\":{\"outlinewidth\":0,\"ticks\":\"\"},\"colorscale\":[[0.0,\"#0d0887\"],[0.1111111111111111,\"#46039f\"],[0.2222222222222222,\"#7201a8\"],[0.3333333333333333,\"#9c179e\"],[0.4444444444444444,\"#bd3786\"],[0.5555555555555556,\"#d8576b\"],[0.6666666666666666,\"#ed7953\"],[0.7777777777777778,\"#fb9f3a\"],[0.8888888888888888,\"#fdca26\"],[1.0,\"#f0f921\"]]}],\"mesh3d\":[{\"type\":\"mesh3d\",\"colorbar\":{\"outlinewidth\":0,\"ticks\":\"\"}}],\"scatter\":[{\"fillpattern\":{\"fillmode\":\"overlay\",\"size\":10,\"solidity\":0.2},\"type\":\"scatter\"}],\"parcoords\":[{\"type\":\"parcoords\",\"line\":{\"colorbar\":{\"outlinewidth\":0,\"ticks\":\"\"}}}],\"scatterpolargl\":[{\"type\":\"scatterpolargl\",\"marker\":{\"colorbar\":{\"outlinewidth\":0,\"ticks\":\"\"}}}],\"bar\":[{\"error_x\":{\"color\":\"#2a3f5f\"},\"error_y\":{\"color\":\"#2a3f5f\"},\"marker\":{\"line\":{\"color\":\"#E5ECF6\",\"width\":0.5},\"pattern\":{\"fillmode\":\"overlay\",\"size\":10,\"solidity\":0.2}},\"type\":\"bar\"}],\"scattergeo\":[{\"type\":\"scattergeo\",\"marker\":{\"colorbar\":{\"outlinewidth\":0,\"ticks\":\"\"}}}],\"scatterpolar\":[{\"type\":\"scatterpolar\",\"marker\":{\"colorbar\":{\"outlinewidth\":0,\"ticks\":\"\"}}}],\"histogram\":[{\"marker\":{\"pattern\":{\"fillmode\":\"overlay\",\"size\":10,\"solidity\":0.2}},\"type\":\"histogram\"}],\"scattergl\":[{\"type\":\"scattergl\",\"marker\":{\"colorbar\":{\"outlinewidth\":0,\"ticks\":\"\"}}}],\"scatter3d\":[{\"type\":\"scatter3d\",\"line\":{\"colorbar\":{\"outlinewidth\":0,\"ticks\":\"\"}},\"marker\":{\"colorbar\":{\"outlinewidth\":0,\"ticks\":\"\"}}}],\"scattermapbox\":[{\"type\":\"scattermapbox\",\"marker\":{\"colorbar\":{\"outlinewidth\":0,\"ticks\":\"\"}}}],\"scatterternary\":[{\"type\":\"scatterternary\",\"marker\":{\"colorbar\":{\"outlinewidth\":0,\"ticks\":\"\"}}}],\"scattercarpet\":[{\"type\":\"scattercarpet\",\"marker\":{\"colorbar\":{\"outlinewidth\":0,\"ticks\":\"\"}}}],\"carpet\":[{\"aaxis\":{\"endlinecolor\":\"#2a3f5f\",\"gridcolor\":\"white\",\"linecolor\":\"white\",\"minorgridcolor\":\"white\",\"startlinecolor\":\"#2a3f5f\"},\"baxis\":{\"endlinecolor\":\"#2a3f5f\",\"gridcolor\":\"white\",\"linecolor\":\"white\",\"minorgridcolor\":\"white\",\"startlinecolor\":\"#2a3f5f\"},\"type\":\"carpet\"}],\"table\":[{\"cells\":{\"fill\":{\"color\":\"#EBF0F8\"},\"line\":{\"color\":\"white\"}},\"header\":{\"fill\":{\"color\":\"#C8D4E3\"},\"line\":{\"color\":\"white\"}},\"type\":\"table\"}],\"barpolar\":[{\"marker\":{\"line\":{\"color\":\"#E5ECF6\",\"width\":0.5},\"pattern\":{\"fillmode\":\"overlay\",\"size\":10,\"solidity\":0.2}},\"type\":\"barpolar\"}],\"pie\":[{\"automargin\":true,\"type\":\"pie\"}]},\"layout\":{\"autotypenumbers\":\"strict\",\"colorway\":[\"#636efa\",\"#EF553B\",\"#00cc96\",\"#ab63fa\",\"#FFA15A\",\"#19d3f3\",\"#FF6692\",\"#B6E880\",\"#FF97FF\",\"#FECB52\"],\"font\":{\"color\":\"#2a3f5f\"},\"hovermode\":\"closest\",\"hoverlabel\":{\"align\":\"left\"},\"paper_bgcolor\":\"white\",\"plot_bgcolor\":\"#E5ECF6\",\"polar\":{\"bgcolor\":\"#E5ECF6\",\"angularaxis\":{\"gridcolor\":\"white\",\"linecolor\":\"white\",\"ticks\":\"\"},\"radialaxis\":{\"gridcolor\":\"white\",\"linecolor\":\"white\",\"ticks\":\"\"}},\"ternary\":{\"bgcolor\":\"#E5ECF6\",\"aaxis\":{\"gridcolor\":\"white\",\"linecolor\":\"white\",\"ticks\":\"\"},\"baxis\":{\"gridcolor\":\"white\",\"linecolor\":\"white\",\"ticks\":\"\"},\"caxis\":{\"gridcolor\":\"white\",\"linecolor\":\"white\",\"ticks\":\"\"}},\"coloraxis\":{\"colorbar\":{\"outlinewidth\":0,\"ticks\":\"\"}},\"colorscale\":{\"sequential\":[[0.0,\"#0d0887\"],[0.1111111111111111,\"#46039f\"],[0.2222222222222222,\"#7201a8\"],[0.3333333333333333,\"#9c179e\"],[0.4444444444444444,\"#bd3786\"],[0.5555555555555556,\"#d8576b\"],[0.6666666666666666,\"#ed7953\"],[0.7777777777777778,\"#fb9f3a\"],[0.8888888888888888,\"#fdca26\"],[1.0,\"#f0f921\"]],\"sequentialminus\":[[0.0,\"#0d0887\"],[0.1111111111111111,\"#46039f\"],[0.2222222222222222,\"#7201a8\"],[0.3333333333333333,\"#9c179e\"],[0.4444444444444444,\"#bd3786\"],[0.5555555555555556,\"#d8576b\"],[0.6666666666666666,\"#ed7953\"],[0.7777777777777778,\"#fb9f3a\"],[0.8888888888888888,\"#fdca26\"],[1.0,\"#f0f921\"]],\"diverging\":[[0,\"#8e0152\"],[0.1,\"#c51b7d\"],[0.2,\"#de77ae\"],[0.3,\"#f1b6da\"],[0.4,\"#fde0ef\"],[0.5,\"#f7f7f7\"],[0.6,\"#e6f5d0\"],[0.7,\"#b8e186\"],[0.8,\"#7fbc41\"],[0.9,\"#4d9221\"],[1,\"#276419\"]]},\"xaxis\":{\"gridcolor\":\"white\",\"linecolor\":\"white\",\"ticks\":\"\",\"title\":{\"standoff\":15},\"zerolinecolor\":\"white\",\"automargin\":true,\"zerolinewidth\":2},\"yaxis\":{\"gridcolor\":\"white\",\"linecolor\":\"white\",\"ticks\":\"\",\"title\":{\"standoff\":15},\"zerolinecolor\":\"white\",\"automargin\":true,\"zerolinewidth\":2},\"scene\":{\"xaxis\":{\"backgroundcolor\":\"#E5ECF6\",\"gridcolor\":\"white\",\"linecolor\":\"white\",\"showbackground\":true,\"ticks\":\"\",\"zerolinecolor\":\"white\",\"gridwidth\":2},\"yaxis\":{\"backgroundcolor\":\"#E5ECF6\",\"gridcolor\":\"white\",\"linecolor\":\"white\",\"showbackground\":true,\"ticks\":\"\",\"zerolinecolor\":\"white\",\"gridwidth\":2},\"zaxis\":{\"backgroundcolor\":\"#E5ECF6\",\"gridcolor\":\"white\",\"linecolor\":\"white\",\"showbackground\":true,\"ticks\":\"\",\"zerolinecolor\":\"white\",\"gridwidth\":2}},\"shapedefaults\":{\"line\":{\"color\":\"#2a3f5f\"}},\"annotationdefaults\":{\"arrowcolor\":\"#2a3f5f\",\"arrowhead\":0,\"arrowwidth\":1},\"geo\":{\"bgcolor\":\"white\",\"landcolor\":\"#E5ECF6\",\"subunitcolor\":\"white\",\"showland\":true,\"showlakes\":true,\"lakecolor\":\"white\"},\"title\":{\"x\":0.05},\"mapbox\":{\"style\":\"light\"}}},\"xaxis\":{\"anchor\":\"y\",\"domain\":[0.0,1.0],\"title\":{\"text\":\"Number of Spells Cast\"}},\"yaxis\":{\"anchor\":\"x\",\"domain\":[0.0,1.0],\"title\":{\"text\":\"Character\"},\"categoryorder\":\"array\",\"categoryarray\":[\"Minerva McGonagall\",\"Sirius Black\",\"Severus Snape\",\"Gilderoy Lockhart\",\"Albus Dumbledore\",\"Neville Longbottom\",\"Remus Lupin\",\"Ron Weasley\",\"Hermione Granger\",\"Harry Potter\"],\"ticks\":\"outside\",\"tickcolor\":\"#d4d1c9\",\"ticklen\":10,\"showline\":true,\"linewidth\":1.5,\"linecolor\":\"black\"},\"legend\":{\"title\":{\"text\":\"Character\"},\"tracegroupgap\":0},\"margin\":{\"t\":60},\"barmode\":\"relative\",\"font\":{\"family\":\"Cochin\",\"size\":18,\"color\":\"black\"},\"title\":{\"text\":\"Top 10 Spell Casters\"},\"showlegend\":false,\"bargap\":0.15,\"bargroupgap\":0.1,\"plot_bgcolor\":\"#e9e7e2\",\"paper_bgcolor\":\"#d4d1c9\",\"hovermode\":false},                        {\"responsive\": true}                    ).then(function(){\n",
              "                            \n",
              "var gd = document.getElementById('c441545f-6862-4441-976d-05ef770896a9');\n",
              "var x = new MutationObserver(function (mutations, observer) {{\n",
              "        var display = window.getComputedStyle(gd).display;\n",
              "        if (!display || display === 'none') {{\n",
              "            console.log([gd, 'removed!']);\n",
              "            Plotly.purge(gd);\n",
              "            observer.disconnect();\n",
              "        }}\n",
              "}});\n",
              "\n",
              "// Listen for the removal of the full notebook cells\n",
              "var notebookContainer = gd.closest('#notebook-container');\n",
              "if (notebookContainer) {{\n",
              "    x.observe(notebookContainer, {childList: true});\n",
              "}}\n",
              "\n",
              "// Listen for the clearing of the current output cell\n",
              "var outputEl = gd.closest('.output');\n",
              "if (outputEl) {{\n",
              "    x.observe(outputEl, {childList: true});\n",
              "}}\n",
              "\n",
              "                        })                };                            </script>        </div>\n",
              "</body>\n",
              "</html>"
            ]
          },
          "metadata": {}
        }
      ]
    },
    {
      "cell_type": "markdown",
      "source": [
        "## Writing files\n"
      ],
      "metadata": {
        "id": "tol6sHATF_R8"
      }
    },
    {
      "cell_type": "code",
      "source": [
        "#Looking at necessary libraries\n",
        "session_info.show() "
      ],
      "metadata": {
        "colab": {
          "base_uri": "https://localhost:8080/",
          "height": 34
        },
        "id": "o_kWCEfIOHrs",
        "outputId": "bfd53f62-4990-4064-dded-3262b327e9a9"
      },
      "execution_count": 20,
      "outputs": [
        {
          "output_type": "execute_result",
          "data": {
            "text/plain": [
              "<IPython.core.display.HTML object>"
            ],
            "text/html": [
              "<details>\n",
              "<summary>Click to view session information</summary>\n",
              "<pre>\n",
              "-----\n",
              "dash                2.9.3\n",
              "jupyter_dash        0.4.2\n",
              "matplotlib          3.7.1\n",
              "numpy               1.22.4\n",
              "pandas              1.5.3\n",
              "plotly              5.13.1\n",
              "regex               2.5.123\n",
              "session_info        1.0.0\n",
              "-----\n",
              "</pre>\n",
              "<details>\n",
              "<summary>Click to view modules imported as dependencies</summary>\n",
              "<pre>\n",
              "PIL                 8.4.0\n",
              "ansi2html           NA\n",
              "attr                23.1.0\n",
              "backcall            0.2.0\n",
              "certifi             2022.12.07\n",
              "cffi                1.15.1\n",
              "chardet             4.0.0\n",
              "charset_normalizer  2.0.12\n",
              "click               8.1.3\n",
              "cloudpickle         2.2.1\n",
              "cycler              0.10.0\n",
              "cython_runtime      NA\n",
              "dask                2022.12.1\n",
              "dateutil            2.8.2\n",
              "debugpy             1.6.6\n",
              "decorator           4.4.2\n",
              "defusedxml          0.7.1\n",
              "fastjsonschema      NA\n",
              "flask               2.2.4\n",
              "google              NA\n",
              "httplib2            0.21.0\n",
              "idna                3.4\n",
              "ipykernel           5.5.6\n",
              "ipython_genutils    0.2.0\n",
              "itsdangerous        2.1.2\n",
              "jinja2              3.1.2\n",
              "jsonschema          4.3.3\n",
              "kiwisolver          1.4.4\n",
              "markupsafe          2.1.2\n",
              "matplotlib_inline   0.1.6\n",
              "mpl_toolkits        NA\n",
              "nbformat            5.8.0\n",
              "nest_asyncio        NA\n",
              "numexpr             2.8.4\n",
              "packaging           23.1\n",
              "pexpect             4.8.0\n",
              "pickleshare         0.7.5\n",
              "pkg_resources       NA\n",
              "platformdirs        3.3.0\n",
              "portpicker          NA\n",
              "prompt_toolkit      3.0.38\n",
              "psutil              5.9.5\n",
              "ptyprocess          0.7.0\n",
              "pyarrow             9.0.0\n",
              "pydev_ipython       NA\n",
              "pydevconsole        NA\n",
              "pydevd              2.9.5\n",
              "pydevd_file_utils   NA\n",
              "pydevd_plugins      NA\n",
              "pydevd_tracing      NA\n",
              "pygments            2.14.0\n",
              "pyparsing           3.0.9\n",
              "pyrsistent          NA\n",
              "pytz                2022.7.1\n",
              "requests            2.27.1\n",
              "retrying            NA\n",
              "sitecustomize       NA\n",
              "six                 1.16.0\n",
              "socks               1.7.1\n",
              "sphinxcontrib       NA\n",
              "storemagic          NA\n",
              "tblib               1.7.0\n",
              "tenacity            NA\n",
              "tlz                 0.12.0\n",
              "toolz               0.12.0\n",
              "tornado             6.2\n",
              "traitlets           5.7.1\n",
              "typing_extensions   NA\n",
              "urllib3             1.26.15\n",
              "wcwidth             0.2.6\n",
              "webcolors           1.13\n",
              "werkzeug            2.3.0\n",
              "xarray              2022.12.0\n",
              "yaml                6.0\n",
              "zmq                 23.2.1\n",
              "zoneinfo            NA\n",
              "</pre>\n",
              "</details> <!-- seems like this ends pre, so might as well be explicit -->\n",
              "<pre>\n",
              "-----\n",
              "IPython             7.34.0\n",
              "jupyter_client      6.1.12\n",
              "jupyter_core        5.3.0\n",
              "notebook            6.4.8\n",
              "-----\n",
              "Python 3.10.11 (main, Apr  5 2023, 14:15:10) [GCC 9.4.0]\n",
              "Linux-5.10.147+-x86_64-with-glibc2.31\n",
              "-----\n",
              "Session information updated at 2023-05-01 13:02\n",
              "</pre>\n",
              "</details>"
            ]
          },
          "metadata": {},
          "execution_count": 20
        }
      ]
    },
    {
      "cell_type": "code",
      "source": [
        "!pip freeze > requirements.txt"
      ],
      "metadata": {
        "id": "4bj1fcQDOWic"
      },
      "execution_count": 21,
      "outputs": []
    },
    {
      "cell_type": "code",
      "source": [
        "counts_df.to_csv('countsdf.csv', sep='\\t')\n",
        "top_spellcasters.to_csv('topspellcasters.csv', sep='\\t')"
      ],
      "metadata": {
        "id": "cg-K9uNT1Ze1"
      },
      "execution_count": 22,
      "outputs": []
    },
    {
      "cell_type": "markdown",
      "source": [
        "# Dash app"
      ],
      "metadata": {
        "id": "F-27pk-qF7kh"
      }
    },
    {
      "cell_type": "code",
      "source": [
        "#Adjusting output cell\n",
        "display(HTML(\"<style>.container { width:100% !important; }</style>\"))\n",
        "display(Javascript('''google.colab.output.setIframeHeight(0, true, {maxHeight: 5000})'''))\n",
        "\n",
        "\n",
        "\n",
        "\n",
        "\n",
        "\n",
        "##### Building a jupyter dash app \n",
        "\n",
        "app = JupyterDash(__name__)\n",
        "\n",
        "\n",
        "app.layout = html.Div([\n",
        "          \n",
        "                html.Div([\n",
        "                      \n",
        "                      html.Div(\n",
        "                          html.Img(src='https://github.com/devencentyk/datavisualization/blob/main/logo_new.png?raw=true', height='75px'), \n",
        "                          style={'textAlign':'center'}),\n",
        "                      \n",
        "                      html.Div(\n",
        "                          html.Img(src='https://github.com/devencentyk/datavisualization/blob/main/subtitle.png?raw=true', height='50px', width='150px'), \n",
        "                          style={'textAlign':'center', 'margin-left':'200px'})\n",
        "                ], style={'height':'130px', 'backgroundColor':'#d4d1c9', 'padding':'20px 0px 0px 0px'}\n",
        "                      ),\n",
        "\n",
        "                \n",
        "                html.Div([\n",
        "                    \n",
        "                      html.Div(dcc.Graph(figure=fig2, style={'height':'550px'}), style={'display':'inline-block', 'width':'60%'}),                    \n",
        "\n",
        "                      html.Div(\n",
        "\n",
        "                            dcc.Markdown(\n",
        "                                '''   \n",
        "                                ## Overview         \n",
        "                                Have you ever wondered which spells were used the most throughout the HP movies?\n",
        "                                Or which wizards/witches cast the most spells?\n",
        "                                Take a look at the graphs to find out! \n",
        "                                _Please note, this is a vizualisation of spells found in the dialogue of the Harry Potter **movies**, not the books._\n",
        "\n",
        "                                ### Things to know to use the graph below: \n",
        "                                * **Double click** on a movie in the **legend** to see the spells cast in that movie alone.\n",
        "                                * You can **single click** the other movies to **add** them back to the graph one at a time.\n",
        "                                * If viewing on **Google Colab**, be sure to **zoom out** at least once by pressing *'CTRL' + '-'*\n",
        "                                ##### _Links to datasets in the 'About' section._\n",
        "                                ''', style={'fontSize':'20px'}\n",
        "                            ), \n",
        "                                style={'color':'black', \n",
        "                                       'display':'inline-block', \n",
        "                                       'width':'30%', \n",
        "                                       'padding': '0px 0px 20px 20px'})\n",
        "\n",
        "                         ], style={'display':'flex', \n",
        "                                   'height':'40%', \n",
        "                                   'width':'100%'}),                  \n",
        "\n",
        "          \n",
        "                      html.Div(dcc.Graph(figure=fig, style={'height': '700px'}), style={'width': '100%'}),\n",
        "                       \n",
        "\n",
        "            html.Div(dcc.Markdown(\n",
        "                '''\n",
        "                ### About the Data\n",
        "                ____________________________________________________________________________________________________________\n",
        "                The data was obtained by using Regex to count the number of times each spell appeared in each movie dialog.\n",
        "                Click [here](https://www.kaggle.com/datasets/kornflex/harry-potter-movies-dataset?select=datasets) for the corpus of dialog, and [here](https://www.kaggle.com/datasets/gulsahdemiryurek/harry-potter-dataset) for the spell names and their effects.\n",
        "                To see the data manipulation, processing, and graph development, see this [Google Colab Notebook](https://colab.research.google.com/drive/1SmfUSlyUb0owTvyOqiM4mVOZCIRKJUo-?usp=sharing).\n",
        "                \n",
        "                *Note: This data is for entertainment purposes only and may contain errors or omissions.*\n",
        "                '''\n",
        "                    )\n",
        "                    ),\n",
        "\n",
        "      html.Br()\n",
        "\n",
        "                      ], style={'backgroundColor':'#d4d1c9', 'padding':'25px 20px 20px 20px', \"border\":\"2px black solid\"})\n",
        "\n",
        "\n",
        "\n",
        "if __name__ == '__main__':\n",
        "    app.run_server(mode='inline')"
      ],
      "metadata": {
        "colab": {
          "base_uri": "https://localhost:8080/",
          "height": 742
        },
        "id": "SvyaIDL-S3ps",
        "outputId": "59b70c9d-6c56-45d7-c4e3-196e4a678a73"
      },
      "execution_count": 30,
      "outputs": [
        {
          "output_type": "display_data",
          "data": {
            "text/plain": [
              "<IPython.core.display.HTML object>"
            ],
            "text/html": [
              "<style>.container { width:100% !important; }</style>"
            ]
          },
          "metadata": {}
        },
        {
          "output_type": "display_data",
          "data": {
            "text/plain": [
              "<IPython.core.display.Javascript object>"
            ],
            "application/javascript": [
              "google.colab.output.setIframeHeight(0, true, {maxHeight: 5000})"
            ]
          },
          "metadata": {}
        },
        {
          "output_type": "stream",
          "name": "stdout",
          "text": [
            "Dash is running on http://127.0.0.1:8050/\n",
            "\n"
          ]
        },
        {
          "output_type": "stream",
          "name": "stderr",
          "text": [
            "INFO:dash.dash:Dash is running on http://127.0.0.1:8050/\n",
            "\n"
          ]
        },
        {
          "output_type": "display_data",
          "data": {
            "text/plain": [
              "<IPython.core.display.Javascript object>"
            ],
            "application/javascript": [
              "(async (port, path, width, height, cache, element) => {\n",
              "    if (!google.colab.kernel.accessAllowed && !cache) {\n",
              "      return;\n",
              "    }\n",
              "    element.appendChild(document.createTextNode(''));\n",
              "    const url = await google.colab.kernel.proxyPort(port, {cache});\n",
              "    const iframe = document.createElement('iframe');\n",
              "    iframe.src = new URL(path, url).toString();\n",
              "    iframe.height = height;\n",
              "    iframe.width = width;\n",
              "    iframe.style.border = 0;\n",
              "    iframe.allow = [\n",
              "        'accelerometer',\n",
              "        'autoplay',\n",
              "        'camera',\n",
              "        'clipboard-read',\n",
              "        'clipboard-write',\n",
              "        'gyroscope',\n",
              "        'magnetometer',\n",
              "        'microphone',\n",
              "        'serial',\n",
              "        'usb',\n",
              "        'xr-spatial-tracking',\n",
              "    ].join('; ');\n",
              "    element.appendChild(iframe);\n",
              "  })(8050, \"/\", \"100%\", 650, false, window.element)"
            ]
          },
          "metadata": {}
        }
      ]
    }
  ]
}